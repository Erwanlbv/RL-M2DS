{
 "cells": [
  {
   "attachments": {},
   "cell_type": "markdown",
   "metadata": {},
   "source": [
    "### TEST DE DQN ET REINFORCE SUR CARTPOLE, PUIS DQN ET REINFORCE SUR SPACE INVA (dernier notebook) pour CNN"
   ]
  },
  {
   "cell_type": "code",
   "execution_count": 1,
   "metadata": {},
   "outputs": [
    {
     "name": "stderr",
     "output_type": "stream",
     "text": [
      "/Users/erwan/miniconda3/envs/torch-env/lib/python3.8/site-packages/tqdm/auto.py:22: TqdmWarning: IProgress not found. Please update jupyter and ipywidgets. See https://ipywidgets.readthedocs.io/en/stable/user_install.html\n",
      "  from .autonotebook import tqdm as notebook_tqdm\n"
     ]
    }
   ],
   "source": [
    "import numpy as np\n",
    "import pandas as pd \n",
    "import gym \n",
    "import stable_baselines3 as sb\n",
    "\n",
    "import torch\n",
    "\n",
    "from reinforce import Policy, reinforce\n",
    "from tool_functions import evaluate_agent, initialize_q_table"
   ]
  },
  {
   "cell_type": "code",
   "execution_count": 2,
   "metadata": {},
   "outputs": [
    {
     "name": "stdout",
     "output_type": "stream",
     "text": [
      "Il y a Box([-4.8000002e+00 -3.4028235e+38 -4.1887903e-01 -3.4028235e+38], [4.8000002e+00 3.4028235e+38 4.1887903e-01 3.4028235e+38], (4,), float32) états possibles\n",
      "Il y a Discrete(2) actions possibles\n"
     ]
    }
   ],
   "source": [
    "env_id = \"CartPole-v1\"\n",
    "env = gym.make(env_id)\n",
    "\n",
    "state_space, s_size = env.observation_space, env.observation_space.shape[0]\n",
    "print(\"Il y a\", state_space, \"états possibles\")\n",
    "\n",
    "action_space, a_size = env.action_space, env.action_space.n\n",
    "print(\"Il y a\", action_space, \"actions possibles\")\n",
    "\n",
    "# Environnement d'évaluation\n",
    "eval_env = gym.make(env_id)"
   ]
  },
  {
   "attachments": {},
   "cell_type": "markdown",
   "metadata": {},
   "source": [
    "Beaucoup trop d'états possibles pour initialiser une table Q -> l'utilisation des algorithmes avec les tables est trop complexe pour \n",
    "donner des bonnes performances ici."
   ]
  },
  {
   "cell_type": "code",
   "execution_count": 3,
   "metadata": {},
   "outputs": [],
   "source": [
    "cartpole_hyperparameters = {\n",
    "    \"h_size\": 16,\n",
    "    \"n_training_episodes\": 500,\n",
    "    \"max_t\": 1000,\n",
    "    \"gamma\": 1.0,\n",
    "    \"lr\": 1e-2,\n",
    "    \"env_id\": env_id,\n",
    "    \"state_space\": s_size,\n",
    "    \"action_space\": a_size,\n",
    "}"
   ]
  },
  {
   "attachments": {},
   "cell_type": "markdown",
   "metadata": {},
   "source": [
    "### Algorithme Reinforce "
   ]
  },
  {
   "cell_type": "code",
   "execution_count": 4,
   "metadata": {},
   "outputs": [
    {
     "name": "stdout",
     "output_type": "stream",
     "text": [
      "Episode 10\tAverage Score: 18.50, Standard Deviation Score: 10.33\n",
      "Métrique : 8.17\n",
      "\t Nouveau meilleur score! Sauvegarde des poids du modèle à /Users/erwan/Programmes/M2DS RL/Basic Algs/best_models/reinforce_MC_CartPole-v1_8.17\n",
      "Episode 20\tAverage Score: 16.40, Standard Deviation Score: 7.95\n",
      "Métrique : 8.45\n",
      "\t Nouveau meilleur score! Sauvegarde des poids du modèle à /Users/erwan/Programmes/M2DS RL/Basic Algs/best_models/reinforce_MC_CartPole-v1_8.45\n",
      "Episode 30\tAverage Score: 17.07, Standard Deviation Score: 7.16\n",
      "Métrique : 9.91\n",
      "\t Nouveau meilleur score! Sauvegarde des poids du modèle à /Users/erwan/Programmes/M2DS RL/Basic Algs/best_models/reinforce_MC_CartPole-v1_9.91\n",
      "Episode 40\tAverage Score: 19.18, Standard Deviation Score: 8.90\n",
      "Métrique : 10.28\n",
      "\t Nouveau meilleur score! Sauvegarde des poids du modèle à /Users/erwan/Programmes/M2DS RL/Basic Algs/best_models/reinforce_MC_CartPole-v1_10.28\n",
      "Episode 100\tAverage Score: 26.07, Standard Deviation Score: 15.49\n",
      "Métrique : 10.58\n",
      "\t Nouveau meilleur score! Sauvegarde des poids du modèle à /Users/erwan/Programmes/M2DS RL/Basic Algs/best_models/reinforce_MC_CartPole-v1_10.58\n",
      "Episode 130\tAverage Score: 38.46, Standard Deviation Score: 26.15\n",
      "Métrique : 12.31\n",
      "\t Nouveau meilleur score! Sauvegarde des poids du modèle à /Users/erwan/Programmes/M2DS RL/Basic Algs/best_models/reinforce_MC_CartPole-v1_12.31\n",
      "Episode 140\tAverage Score: 45.26, Standard Deviation Score: 32.50\n",
      "Métrique : 12.76\n",
      "\t Nouveau meilleur score! Sauvegarde des poids du modèle à /Users/erwan/Programmes/M2DS RL/Basic Algs/best_models/reinforce_MC_CartPole-v1_12.76\n",
      "Episode 180\tAverage Score: 82.11, Standard Deviation Score: 61.32\n",
      "Métrique : 20.79\n",
      "\t Nouveau meilleur score! Sauvegarde des poids du modèle à /Users/erwan/Programmes/M2DS RL/Basic Algs/best_models/reinforce_MC_CartPole-v1_20.79\n",
      "Episode 190\tAverage Score: 86.79, Standard Deviation Score: 59.64\n",
      "Métrique : 27.15\n",
      "\t Nouveau meilleur score! Sauvegarde des poids du modèle à /Users/erwan/Programmes/M2DS RL/Basic Algs/best_models/reinforce_MC_CartPole-v1_27.15\n",
      "Episode 200\tAverage Score: 93.52, Standard Deviation Score: 57.73\n",
      "Métrique : 35.79\n",
      "\t Nouveau meilleur score! Sauvegarde des poids du modèle à /Users/erwan/Programmes/M2DS RL/Basic Algs/best_models/reinforce_MC_CartPole-v1_35.79\n",
      "Episode 210\tAverage Score: 100.48, Standard Deviation Score: 55.58\n",
      "Métrique : 44.9\n",
      "\t Nouveau meilleur score! Sauvegarde des poids du modèle à /Users/erwan/Programmes/M2DS RL/Basic Algs/best_models/reinforce_MC_CartPole-v1_44.9\n",
      "Episode 230\tAverage Score: 141.15, Standard Deviation Score: 92.36\n",
      "Métrique : 48.79\n",
      "\t Nouveau meilleur score! Sauvegarde des poids du modèle à /Users/erwan/Programmes/M2DS RL/Basic Algs/best_models/reinforce_MC_CartPole-v1_48.79\n",
      "Episode 250\tAverage Score: 203.83, Standard Deviation Score: 150.46\n",
      "Métrique : 53.37\n",
      "\t Nouveau meilleur score! Sauvegarde des poids du modèle à /Users/erwan/Programmes/M2DS RL/Basic Algs/best_models/reinforce_MC_CartPole-v1_53.37\n",
      "Episode 260\tAverage Score: 234.63, Standard Deviation Score: 160.89\n",
      "Métrique : 73.74\n",
      "\t Nouveau meilleur score! Sauvegarde des poids du modèle à /Users/erwan/Programmes/M2DS RL/Basic Algs/best_models/reinforce_MC_CartPole-v1_73.74\n",
      "Episode 270\tAverage Score: 248.10, Standard Deviation Score: 160.32\n",
      "Métrique : 87.78\n",
      "\t Nouveau meilleur score! Sauvegarde des poids du modèle à /Users/erwan/Programmes/M2DS RL/Basic Algs/best_models/reinforce_MC_CartPole-v1_87.78\n",
      "Episode 280\tAverage Score: 269.10, Standard Deviation Score: 159.89\n",
      "Métrique : 109.21\n",
      "\t Nouveau meilleur score! Sauvegarde des poids du modèle à /Users/erwan/Programmes/M2DS RL/Basic Algs/best_models/reinforce_MC_CartPole-v1_109.21\n",
      "Episode 290\tAverage Score: 284.96, Standard Deviation Score: 153.82\n",
      "Métrique : 131.14\n",
      "\t Nouveau meilleur score! Sauvegarde des poids du modèle à /Users/erwan/Programmes/M2DS RL/Basic Algs/best_models/reinforce_MC_CartPole-v1_131.14\n",
      "Episode 300\tAverage Score: 286.58, Standard Deviation Score: 151.78\n",
      "Métrique : 134.8\n",
      "\t Nouveau meilleur score! Sauvegarde des poids du modèle à /Users/erwan/Programmes/M2DS RL/Basic Algs/best_models/reinforce_MC_CartPole-v1_134.8\n",
      "Episode 400\tAverage Score: 325.69, Standard Deviation Score: 187.39\n",
      "Métrique : 138.3\n",
      "\t Nouveau meilleur score! Sauvegarde des poids du modèle à /Users/erwan/Programmes/M2DS RL/Basic Algs/best_models/reinforce_MC_CartPole-v1_138.3\n",
      "Episode 410\tAverage Score: 348.88, Standard Deviation Score: 177.59\n",
      "Métrique : 171.29\n",
      "\t Nouveau meilleur score! Sauvegarde des poids du modèle à /Users/erwan/Programmes/M2DS RL/Basic Algs/best_models/reinforce_MC_CartPole-v1_171.29\n",
      "Episode 420\tAverage Score: 389.62, Standard Deviation Score: 159.76\n",
      "Métrique : 229.86\n",
      "\t Nouveau meilleur score! Sauvegarde des poids du modèle à /Users/erwan/Programmes/M2DS RL/Basic Algs/best_models/reinforce_MC_CartPole-v1_229.86\n",
      "Episode 430\tAverage Score: 427.93, Standard Deviation Score: 133.48\n",
      "Métrique : 294.45\n",
      "\t Nouveau meilleur score! Sauvegarde des poids du modèle à /Users/erwan/Programmes/M2DS RL/Basic Algs/best_models/reinforce_MC_CartPole-v1_294.45\n",
      "Episode 440\tAverage Score: 434.62, Standard Deviation Score: 125.94\n",
      "Métrique : 308.68\n",
      "\t Nouveau meilleur score! Sauvegarde des poids du modèle à /Users/erwan/Programmes/M2DS RL/Basic Algs/best_models/reinforce_MC_CartPole-v1_308.68\n",
      "Episode 450\tAverage Score: 435.04, Standard Deviation Score: 124.81\n",
      "Métrique : 310.23\n",
      "\t Nouveau meilleur score! Sauvegarde des poids du modèle à /Users/erwan/Programmes/M2DS RL/Basic Algs/best_models/reinforce_MC_CartPole-v1_310.23\n"
     ]
    }
   ],
   "source": [
    "reinforce_policy =  Policy(\n",
    "    game_name=cartpole_hyperparameters['env_id'],\n",
    "    s_size=cartpole_hyperparameters['state_space'],\n",
    "    a_size=cartpole_hyperparameters['action_space'],\n",
    "    h_size=cartpole_hyperparameters['h_size']   \n",
    ")\n",
    "\n",
    "reinforce_optimizer = torch.optim.Adam(reinforce_policy.parameters(), lr=cartpole_hyperparameters['lr'])\n",
    "\n",
    "# Entraînement\n",
    "scores = reinforce(reinforce_policy,\n",
    "                   reinforce_optimizer,\n",
    "                   cartpole_hyperparameters[\"n_training_episodes\"], \n",
    "                   cartpole_hyperparameters[\"max_t\"],\n",
    "                   cartpole_hyperparameters[\"gamma\"], \n",
    "                   env=env,\n",
    "                   check_every=10)"
   ]
  },
  {
   "cell_type": "code",
   "execution_count": null,
   "metadata": {},
   "outputs": [],
   "source": []
  }
 ],
 "metadata": {
  "kernelspec": {
   "display_name": "torch-env",
   "language": "python",
   "name": "python3"
  },
  "language_info": {
   "codemirror_mode": {
    "name": "ipython",
    "version": 3
   },
   "file_extension": ".py",
   "mimetype": "text/x-python",
   "name": "python",
   "nbconvert_exporter": "python",
   "pygments_lexer": "ipython3",
   "version": "3.8.16"
  },
  "orig_nbformat": 4,
  "vscode": {
   "interpreter": {
    "hash": "f0acbd71ee6978b2565a23648ddbf4a93f58fd633182475feae718b7ed62347c"
   }
  }
 },
 "nbformat": 4,
 "nbformat_minor": 2
}
