{
 "cells": [
  {
   "cell_type": "code",
   "execution_count": 3,
   "metadata": {},
   "outputs": [],
   "source": [
    "import pandas as pd\n",
    "import gym\n",
    "\n",
    "from tool_functions import initialize_q_table, evaluate_agent\n",
    "\n",
    "from Algo_Fonda.qlearning import q_learning\n",
    "from Algo_Fonda.every_visit_q_mc import every_visit_mc"
   ]
  },
  {
   "attachments": {},
   "cell_type": "markdown",
   "metadata": {},
   "source": [
    "### Création et étude de l'environnement\n",
    "\n",
    "Nous allons entraîner notre agent Q-Learning **à naviguer de l'état de départ (S) à l'état cible (G) en marchant uniquement sur les tuiles gelées (F) et en évitant les trous (H)**.\n",
    "\n",
    "Dans le précédent notebook nous nous sommes intéressés au cas (très) simple d'une carte 4x4. Nous allons maintenant nous intéresser au cas 8x8. (Qui comprend 4 fois plus d'états possibles) \n",
    "\n",
    "- `map_name=\"8x8\"` : une version en grille 8x8\n",
    "\n",
    "\n",
    "Nous restons dans le mode :\n",
    "- `is_slippery=False` : L'agent se déplace toujours **dans la direction prévue** en raison de la nature non glissante du lac gelé (déterministe).\n",
    "\n",
    "Récompenses inchangées :  \n",
    "Si l'agent **atteint l'objectif** il reçoit une **récompense de 1**, s'il ne **l'atteint pas** (se déplace seulement) il reçoit **0** et s'il **tombe dans un trou** il reçoit également **0**."
   ]
  },
  {
   "cell_type": "code",
   "execution_count": 4,
   "metadata": {},
   "outputs": [
    {
     "name": "stdout",
     "output_type": "stream",
     "text": [
      "Il y a 64 états possibles\n",
      "Il y a 4 actions possibles\n"
     ]
    }
   ],
   "source": [
    "# 1er cas : carte 4x4 sans glisse \n",
    "env = gym.make(\n",
    "    'FrozenLake-v1',\n",
    "    map_name=\"8x8\", \n",
    "    is_slippery=False\n",
    ")\n",
    "\n",
    "state_space = env.observation_space.n\n",
    "print(\"Il y a\", state_space, \"états possibles\")\n",
    "\n",
    "action_space = env.action_space.n\n",
    "print(\"Il y a\", action_space, \"actions possibles\")\n",
    "\n",
    "# Pour l'évaluation des modèles\n",
    "eval_env = gym.make(\n",
    "    'FrozenLake-v1',\n",
    "    map_name=\"4x4\", \n",
    "    is_slippery=False\n",
    ")"
   ]
  },
  {
   "cell_type": "code",
   "execution_count": 5,
   "metadata": {},
   "outputs": [],
   "source": [
    "# Hyperparamètres partagés par tous les modèles la comparison des modèles\n",
    "\n",
    "# Entraînement\n",
    "n_training_episodes = 5000  # Nombre d'épisdoes d'entrainement\n",
    "max_steps = 1000             # Nombre maximla d'itérations pour un épisode\n",
    "learning_rate = 0.7         # Taux d'apprentissage (poids accordé au passé pour la mise à jour de la table de Q)\n",
    "gamma = 0.99\n",
    "\n",
    "# Exploration \n",
    "max_epsilon = 0.8       \n",
    "min_epsilon = 0.1            \n",
    "decay_rate = 0.001          # Décroissance exponentielle pour le epsillon considéré par Q de taux decay_rate\n",
    "\n",
    "# Pour l'affichages des résultats \n",
    "res = pd.DataFrame()\n",
    "smooth = 100 # Lissage des courbes"
   ]
  },
  {
   "attachments": {},
   "cell_type": "markdown",
   "metadata": {},
   "source": [
    "### Performances d'un estimateur de Monte Carlo Incrémental "
   ]
  },
  {
   "cell_type": "code",
   "execution_count": 6,
   "metadata": {},
   "outputs": [
    {
     "name": "stderr",
     "output_type": "stream",
     "text": [
      "100%|██████████| 5000/5000 [00:08<00:00, 594.73it/s]\n"
     ]
    }
   ],
   "source": [
    "# Obligé de réduire max_steps pour que l'algorithme converge en temps raisonnable \n",
    "mc_table = initialize_q_table(state_space, action_space)\n",
    "\n",
    "mc_table, mc_rewards = every_visit_mc(\n",
    "    n_training_episodes=n_training_episodes,\n",
    "    max_steps=max_steps,\n",
    "    min_epsilon=0.005,\n",
    "    max_epsilon=0.9,\n",
    "    decay_rate=decay_rate,\n",
    "    learning_rate=learning_rate,\n",
    "    gamma=gamma,\n",
    "    env=env,\n",
    "    Qtable=mc_table\n",
    ")"
   ]
  },
  {
   "cell_type": "code",
   "execution_count": 7,
   "metadata": {},
   "outputs": [],
   "source": [
    "mc_rewards = pd.Series(mc_rewards)\n",
    "mc_rewards = mc_rewards.rolling(smooth, center=True).mean()\n",
    "res['IMC-FL'] = mc_rewards"
   ]
  },
  {
   "cell_type": "code",
   "execution_count": 8,
   "metadata": {},
   "outputs": [
    {
     "name": "stderr",
     "output_type": "stream",
     "text": [
      "100%|██████████| 100/100 [00:00<00:00, 548.44it/s]\n"
     ]
    },
    {
     "data": {
      "text/plain": [
       "(0.0, 0.0)"
      ]
     },
     "execution_count": 8,
     "metadata": {},
     "output_type": "execute_result"
    }
   ],
   "source": [
    "# Lors de l'évaluation plus d'epsillon\n",
    "evaluate_agent(eval_env, max_steps=100, n_eval_episodes=100, Q=mc_table)"
   ]
  },
  {
   "attachments": {},
   "cell_type": "markdown",
   "metadata": {},
   "source": [
    "### Performances de Q-learning"
   ]
  },
  {
   "cell_type": "code",
   "execution_count": 9,
   "metadata": {},
   "outputs": [
    {
     "name": "stderr",
     "output_type": "stream",
     "text": [
      "100%|██████████| 5000/5000 [00:12<00:00, 401.70it/s]\n"
     ]
    }
   ],
   "source": [
    "qlearning_table = initialize_q_table(state_space, action_space)\n",
    "\n",
    "qlearning_table, rewards = q_learning(\n",
    "    n_training_episodes=n_training_episodes,\n",
    "    max_steps=max_steps,\n",
    "    min_epsilon=0.005,\n",
    "    max_epsilon=0.9,\n",
    "    decay_rate=decay_rate,\n",
    "    learning_rate=learning_rate,\n",
    "    gamma=gamma,\n",
    "    env=env,\n",
    "    Qtable=qlearning_table\n",
    ")"
   ]
  },
  {
   "cell_type": "code",
   "execution_count": 10,
   "metadata": {},
   "outputs": [],
   "source": [
    "qlearning_rewards = pd.Series(rewards)\n",
    "qlearning_rewards = qlearning_rewards.rolling(smooth, center=True).mean()\n",
    "res['qlearning-FL'] = qlearning_rewards"
   ]
  },
  {
   "cell_type": "code",
   "execution_count": 11,
   "metadata": {},
   "outputs": [
    {
     "name": "stderr",
     "output_type": "stream",
     "text": [
      "100%|██████████| 100/100 [00:00<00:00, 539.59it/s]\n"
     ]
    },
    {
     "data": {
      "text/plain": [
       "(0.0, 0.0)"
      ]
     },
     "execution_count": 11,
     "metadata": {},
     "output_type": "execute_result"
    }
   ],
   "source": [
    "# Lors de l'évaluation plus d'epsillon\n",
    "evaluate_agent(eval_env, max_steps=100, n_eval_episodes=100, Q=qlearning_table)"
   ]
  },
  {
   "attachments": {},
   "cell_type": "markdown",
   "metadata": {},
   "source": [
    "### Illustrations"
   ]
  },
  {
   "cell_type": "code",
   "execution_count": 12,
   "metadata": {},
   "outputs": [],
   "source": [
    "import matplotlib.pyplot as plt"
   ]
  },
  {
   "cell_type": "code",
   "execution_count": 16,
   "metadata": {},
   "outputs": [
    {
     "data": {
      "text/plain": [
       "<AxesSubplot: title={'center': 'Récompense moyenne par trajectoire'}, xlabel='Trajectoire n°'>"
      ]
     },
     "execution_count": 16,
     "metadata": {},
     "output_type": "execute_result"
    },
    {
     "data": {
      "image/png": "[encoded data removed]",
      "text/plain": [
       "<Figure size 1200x500 with 1 Axes>"
      ]
     },
     "metadata": {},
     "output_type": "display_data"
    }
   ],
   "source": [
    "fig, ax = plt.subplots(figsize=(12, 5))\n",
    "ax.set_title(\"Récompense moyenne par trajectoire\")\n",
    "ax.set_xlabel(\"Trajectoire n°\")\n",
    "res.plot(ax=ax)"
   ]
  },
  {
   "attachments": {},
   "cell_type": "markdown",
   "metadata": {},
   "source": [
    "Même en pouvant itérer jusqu'à 1000 pas, les algorithmes ne parviennent pas à converger vers la solution. La carte étant bien plus grande ils ont beaucoup plus d'états à parcourir un grand nombre de fois pour estimer correctement leur valeurs.  \n",
    "\n",
    "Cela d'autant plus complexe que la distribution des récompenses est particulièrement rude : aucun récompense tant que l'objectif n'est pas atteint. Autrement dit aucune information de \"réussite\" donné aux algorithmes sauf quand ils atteignent l'état final. Mais comme il faut parcourir bien davatange d'états pour atteindre l'état final..\n",
    "\n",
    "*Dans la pratique pour n_training_episodes = 50_000 la convergence s'effectue pour les deux algorithmes (effectué sur un colab)* "
   ]
  }
 ],
 "metadata": {
  "kernelspec": {
   "display_name": "ml_env",
   "language": "python",
   "name": "python3"
  },
  "language_info": {
   "codemirror_mode": {
    "name": "ipython",
    "version": 3
   },
   "file_extension": ".py",
   "mimetype": "text/x-python",
   "name": "python",
   "nbconvert_exporter": "python",
   "pygments_lexer": "ipython3",
   "version": "3.9.15"
  },
  "orig_nbformat": 4,
  "vscode": {
   "interpreter": {
    "hash": "c43a034baed6525e7d4b54734a34a446a6181c1bda94e67cd174d3b725a42644"
   }
  }
 },
 "nbformat": 4,
 "nbformat_minor": 2
}
