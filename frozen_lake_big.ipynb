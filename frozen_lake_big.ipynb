{
 "cells": [
  {
   "cell_type": "code",
   "execution_count": 15,
   "metadata": {},
   "outputs": [],
   "source": [
    "import sys \n",
    "import os\n",
    "\n",
    "import numpy as np\n",
    "import pandas as pd\n",
    "import gym\n",
    "\n",
    "from tool_functions import initialize_q_table, evaluate_agent\n",
    "\n",
    "from qlearning import q_learning\n",
    "from sarsa import sarsa\n",
    "from every_visit_q_mc import every_visit_mc"
   ]
  },
  {
   "attachments": {},
   "cell_type": "markdown",
   "metadata": {},
   "source": [
    "### Création et étude de l'environnement\n",
    "\n",
    "We're going to train our Q-Learning agent **to navigate from the starting state (S) to the goal state (G) by walking only on frozen tiles (F) and avoid holes (H)**.\n",
    "\n",
    "We can have two sizes of environment:\n",
    "\n",
    "- `map_name=\"4x4\"`: a 4x4 grid version\n",
    "- `map_name=\"8x8\"`: a 8x8 grid version\n",
    "\n",
    "\n",
    "The environment has two modes:\n",
    "\n",
    "- `is_slippery=False`: The agent always moves **in the intended direction** due to the non-slippery nature of the frozen lake (deterministic).\n",
    "- `is_slippery=True`: The agent **may not always move in the intended direction** due to the slippery nature of the frozen lake (stochastic).\n",
    "\n",
    "\n",
    "Si l'agent **atteint l'objectif** il reçoit une **récompense de 1**, s'il ne **l'atteint pas** (se déplace seulement) il reçoit **0** et s'il **tombe dans un trou** il reçoit également **0**."
   ]
  },
  {
   "cell_type": "code",
   "execution_count": 16,
   "metadata": {},
   "outputs": [
    {
     "name": "stdout",
     "output_type": "stream",
     "text": [
      "Il y a 64 états possibles\n",
      "Il y a 4 actions possibles\n"
     ]
    }
   ],
   "source": [
    "# 1er cas : carte 4x4 sans glisse \n",
    "env = gym.make(\n",
    "    'FrozenLake-v1',\n",
    "    map_name=\"8x8\", \n",
    "    is_slippery=False\n",
    ")\n",
    "\n",
    "state_space = env.observation_space.n\n",
    "print(\"Il y a\", state_space, \"états possibles\")\n",
    "\n",
    "action_space = env.action_space.n\n",
    "print(\"Il y a\", action_space, \"actions possibles\")\n",
    "\n",
    "# Pour l'évaluation des modèles\n",
    "eval_env = gym.make(\n",
    "    'FrozenLake-v1',\n",
    "    map_name=\"4x4\", \n",
    "    is_slippery=False\n",
    ")"
   ]
  },
  {
   "attachments": {},
   "cell_type": "markdown",
   "metadata": {},
   "source": [
    "We see with `Observation Space Shape Discrete(16)` that the observation is an integer representing the **agent’s current position as current_row * nrows + current_col (where both the row and col start at 0)**. \n",
    "\n",
    "For example, the goal position in the 4x4 map can be calculated as follows: 3 * 4 + 3 = 15. The number of possible observations is dependent on the size of the map. **For example, the 4x4 map has 16 possible observations.**\n",
    "\n",
    "\n",
    "For instance, this is what state = 0 looks like:\n",
    "\n",
    "<img src=\"https://huggingface.co/datasets/huggingface-deep-rl-course/course-images/resolve/main/en/notebooks/unit2/frozenlake.png\" alt=\"FrozenLake\">"
   ]
  },
  {
   "cell_type": "code",
   "execution_count": 17,
   "metadata": {},
   "outputs": [],
   "source": [
    "# Hyperparamètres partagés par tous les modèles la comparison des modèles\n",
    "\n",
    "# Entraînement\n",
    "n_training_episodes = 50000  # Nombre d'épisdoes d'entrainement\n",
    "max_steps = 1000             # Nombre maximla d'itérations pour un épisode\n",
    "learning_rate = 0.7         # Taux d'apprentissage (poids accordé au passé pour la mise à jour de la table de Q)\n",
    "gamma = 0.99\n",
    "\n",
    "# Exploration \n",
    "max_epsilon = 0.8       \n",
    "min_epsilon = 0.1            \n",
    "decay_rate = 0.001          # Décroissance exponentielle pour le epsillon considéré par Q de taux decay_rate\n",
    "\n",
    "# Pour l'affichages des résultats \n",
    "res = pd.DataFrame()\n",
    "smooth = 100 # Lissage des courbes"
   ]
  },
  {
   "attachments": {},
   "cell_type": "markdown",
   "metadata": {},
   "source": [
    "### Performances d'un \"Estimateur MC - Chaque-Passage\" "
   ]
  },
  {
   "cell_type": "code",
   "execution_count": 18,
   "metadata": {},
   "outputs": [
    {
     "name": "stderr",
     "output_type": "stream",
     "text": [
      "100%|██████████| 50000/50000 [01:25<00:00, 583.58it/s]\n"
     ]
    }
   ],
   "source": [
    "# Obligé de réduire max_steps pour que l'algorithme converge en temps raisonnable \n",
    "mc_table = initialize_q_table(state_space, action_space)\n",
    "\n",
    "mc_table, mc_rewards = every_visit_mc(\n",
    "    n_training_episodes=n_training_episodes,\n",
    "    max_steps=max_steps,\n",
    "    min_epsilon=0.005,\n",
    "    max_epsilon=0.9,\n",
    "    decay_rate=decay_rate,\n",
    "    learning_rate=learning_rate,\n",
    "    gamma=gamma,\n",
    "    env=env,\n",
    "    Qtable=mc_table\n",
    ")"
   ]
  },
  {
   "cell_type": "code",
   "execution_count": 19,
   "metadata": {},
   "outputs": [],
   "source": [
    "mc_rewards = pd.Series(mc_rewards)\n",
    "mc_rewards = mc_rewards.rolling(smooth, center=True).mean()\n",
    "res['IMC-FL'] = mc_rewards"
   ]
  },
  {
   "cell_type": "code",
   "execution_count": 20,
   "metadata": {},
   "outputs": [
    {
     "name": "stderr",
     "output_type": "stream",
     "text": [
      "100%|██████████| 100/100 [00:00<00:00, 549.57it/s]\n"
     ]
    },
    {
     "data": {
      "text/plain": [
       "(0.0, 0.0)"
      ]
     },
     "execution_count": 20,
     "metadata": {},
     "output_type": "execute_result"
    }
   ],
   "source": [
    "# Lors de l'évaluation plus d'epsillon\n",
    "evaluate_agent(eval_env, max_steps=100, n_eval_episodes=100, Q=mc_table)"
   ]
  },
  {
   "attachments": {},
   "cell_type": "markdown",
   "metadata": {},
   "source": [
    "### Performances de Q-learning"
   ]
  },
  {
   "cell_type": "code",
   "execution_count": 24,
   "metadata": {},
   "outputs": [
    {
     "name": "stderr",
     "output_type": "stream",
     "text": [
      "100%|██████████| 50000/50000 [02:06<00:00, 395.72it/s]\n"
     ]
    }
   ],
   "source": [
    "qlearning_table = initialize_q_table(state_space, action_space)\n",
    "\n",
    "qlearning_table, rewards = q_learning(\n",
    "    n_training_episodes=n_training_episodes,\n",
    "    max_steps=max_steps,\n",
    "    min_epsilon=0.005,\n",
    "    max_epsilon=0.9,\n",
    "    decay_rate=decay_rate,\n",
    "    learning_rate=learning_rate,\n",
    "    gamma=gamma,\n",
    "    env=env,\n",
    "    Qtable=qlearning_table\n",
    ")"
   ]
  },
  {
   "cell_type": "code",
   "execution_count": 25,
   "metadata": {},
   "outputs": [],
   "source": [
    "qlearning_rewards = pd.Series(rewards)\n",
    "qlearning_rewards = qlearning_rewards.rolling(smooth, center=True).mean()\n",
    "res['qlearning-FL'] = qlearning_rewards"
   ]
  },
  {
   "cell_type": "code",
   "execution_count": 26,
   "metadata": {},
   "outputs": [
    {
     "name": "stderr",
     "output_type": "stream",
     "text": [
      "100%|██████████| 100/100 [00:00<00:00, 598.33it/s]\n"
     ]
    },
    {
     "data": {
      "text/plain": [
       "(0.0, 0.0)"
      ]
     },
     "execution_count": 26,
     "metadata": {},
     "output_type": "execute_result"
    }
   ],
   "source": [
    "# Lors de l'évaluation plus d'epsillon\n",
    "evaluate_agent(eval_env, max_steps=100, n_eval_episodes=100, Q=qlearning_table)"
   ]
  },
  {
   "attachments": {},
   "cell_type": "markdown",
   "metadata": {},
   "source": [
    "### Illustrations"
   ]
  },
  {
   "cell_type": "code",
   "execution_count": 27,
   "metadata": {},
   "outputs": [],
   "source": [
    "import matplotlib.pyplot as plt"
   ]
  },
  {
   "cell_type": "code",
   "execution_count": 28,
   "metadata": {},
   "outputs": [
    {
     "data": {
      "text/plain": [
       "<AxesSubplot: >"
      ]
     },
     "execution_count": 28,
     "metadata": {},
     "output_type": "execute_result"
    },
    {
     "data": {
      "image/png": "[encoded data removed]",
      "text/plain": [
       "<Figure size 1200x500 with 1 Axes>"
      ]
     },
     "metadata": {},
     "output_type": "display_data"
    }
   ],
   "source": [
    "fig, ax = plt.subplots(figsize=(12, 5))\n",
    "res.plot(ax=ax)"
   ]
  },
  {
   "cell_type": "code",
   "execution_count": 29,
   "metadata": {},
   "outputs": [],
   "source": [
    "res.to_json(\"hyp_bigfl_config_v1.json\")"
   ]
  },
  {
   "cell_type": "code",
   "execution_count": null,
   "metadata": {},
   "outputs": [],
   "source": []
  }
 ],
 "metadata": {
  "kernelspec": {
   "display_name": "ml_env",
   "language": "python",
   "name": "python3"
  },
  "language_info": {
   "codemirror_mode": {
    "name": "ipython",
    "version": 3
   },
   "file_extension": ".py",
   "mimetype": "text/x-python",
   "name": "python",
   "nbconvert_exporter": "python",
   "pygments_lexer": "ipython3",
   "version": "3.9.15 (main, Nov 24 2022, 08:29:02) \n[Clang 14.0.6 ]"
  },
  "orig_nbformat": 4,
  "vscode": {
   "interpreter": {
    "hash": "c43a034baed6525e7d4b54734a34a446a6181c1bda94e67cd174d3b725a42644"
   }
  }
 },
 "nbformat": 4,
 "nbformat_minor": 2
}
